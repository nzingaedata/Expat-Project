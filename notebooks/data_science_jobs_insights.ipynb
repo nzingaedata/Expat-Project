{
 "cells": [
  {
   "cell_type": "markdown",
   "id": "1f55c796",
   "metadata": {},
   "source": [
    "# Data Science Job Insights"
   ]
  },
  {
   "cell_type": "markdown",
   "id": "b4288642",
   "metadata": {},
   "source": [
    "### Overview\n",
    "\n",
    "In this project I scraped job postings related to Data Science field from www.glassdoor.com. This project is inspired by Ken Jee (https://github.com/PlayingNumbers). I have used a modified version of Ken Jee's selenium code because that code was not working raw for me. Selenium was used because it has small chance of getting caught by glassdoor as it mimics a human kind of interaction. Sending too many request could still increase chances of getting IP block, this limited the dataset to only 1000 jobs."
   ]
  },
  {
   "cell_type": "markdown",
   "id": "7a436197",
   "metadata": {},
   "source": [
    "### Motivation\n",
    "\n",
    "I am a US based Data Scientist looking to make a major lifestyle change which includes living abroad and looking for remote or hybrid opportunities. In order to best prepare for the next opportunity, I thought it would be best to review popular job search engines to see which companies were best reviewed by their employees and offered the best work-life balance, benefits and salaries across different countries. I am applying for entry/junior level positions and want to know whick skills I would need to freshen up or develop before I apply for the job. "
   ]
  },
  {
   "cell_type": "markdown",
   "id": "5dcf8d43",
   "metadata": {},
   "source": [
    "### Methodology\n",
    "1. Webscraping from different sites for different regions: North and Central America, South America, Africa, Europe, Asia, Oceania\n",
    "2. Preprocess, clean, and generate dataset\n",
    "3. Exploratore Dataset \n",
    "4. Report Findings"
   ]
  },
  {
   "cell_type": "markdown",
   "id": "9832b307",
   "metadata": {},
   "source": [
    "### Dataset"
   ]
  },
  {
   "cell_type": "markdown",
   "id": "289d8ec8",
   "metadata": {},
   "source": [
    "### Questions"
   ]
  },
  {
   "cell_type": "markdown",
   "id": "c3ea559c",
   "metadata": {},
   "source": [
    "The following questions apply across the following region: North America, Latin America, Europe, Africa, Asia, Oceania:\n",
    "\n",
    "- What countries are data scientist most and least in demand?\n",
    "- What regions are data scientist most and least in demand?\n",
    "- For each region, which country do data scientist earn the most? \n",
    "- What are the lowest, highest and average salaries for a data scientist in said countries? \n",
    "- For each region, which country do data scientits earn the least?\n",
    "- What are the lowest, highest and average salaries for a data scientist in said countries? \n",
    "- What regions do data scientist earn the most and least? \n",
    "- Which industries are most in demand for a data scientist across each region? \n",
    "- Which data science related job titles are most in demand across each country/region?\n",
    "- What's the average salary of the job titles with the most number of jobs across each country/region?\n",
    "- What skills are most in demand for an entry/junior level position?\n",
    "- What's the relationship between salary and education?\n",
    "- What are the highest and lowest reviewed company accross each region?\n",
    "- Which companies have the best company culture?\n",
    "- Which companies offer the best work-life balance?\n",
    "- What are the most common benefits offered for countries accross each region?\n",
    "- Which countries have the highest/lowest cost of living?"
   ]
  },
  {
   "cell_type": "code",
   "execution_count": null,
   "id": "b1fc2b4d",
   "metadata": {},
   "outputs": [],
   "source": []
  },
  {
   "cell_type": "markdown",
   "id": "198af915",
   "metadata": {},
   "source": [
    "### Sources\n",
    "- The World Bank - https://data.worldbank.org/indicator\n",
    "- Numbeo - https://www.numbeo.com/cost-of-living/rankings.jsp\n",
    "- Glassdoor \n",
    "- Indeed \n",
    "- Angel.co"
   ]
  },
  {
   "cell_type": "markdown",
   "id": "6c6fbcee",
   "metadata": {},
   "source": [
    "### Credits\n",
    "- Nikhil Bhathi - https://www.kaggle.com/code/nikhilbhathi/100-insights-data-science-jobs-eda/notebook"
   ]
  }
 ],
 "metadata": {
  "kernelspec": {
   "display_name": "Python 3 (ipykernel)",
   "language": "python",
   "name": "python3"
  },
  "language_info": {
   "codemirror_mode": {
    "name": "ipython",
    "version": 3
   },
   "file_extension": ".py",
   "mimetype": "text/x-python",
   "name": "python",
   "nbconvert_exporter": "python",
   "pygments_lexer": "ipython3",
   "version": "3.7.6"
  }
 },
 "nbformat": 4,
 "nbformat_minor": 5
}
